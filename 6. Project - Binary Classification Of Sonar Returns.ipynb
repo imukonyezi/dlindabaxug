{
 "cells": [
  {
   "cell_type": "markdown",
   "metadata": {},
   "source": [
    "In this project tutorial you will discover how to effectively use the Keras library in your machine\n",
    "learning project by working through a binary classification project step-by-step. After completing\n",
    "this step-by-step tutorial, you will know:\n",
    "1. How to load training data and make it available to Keras.\n",
    "2. How to design and train a neural network for tabular data.\n",
    "3. How to evaluate the performance of a neural network model in Keras on unseen data.\n",
    "4. How to perform data preparation to improve skill when using neural networks.\n",
    "5. How to tune the topology and configuration of neural networks in Keras.\n",
    "Let’s get started.\n",
    "\n",
    "### 1.1 Sonar Object Classification Dataset\n",
    "The dataset we will use in this tutorial is the Sonar dataset. This is a dataset that describes\n",
    "sonar chirp returns bouncing off different surfaces. The 60 input variables are the strength of\n",
    "the returns at different angles. It is a binary classification problem that requires a model to\n",
    "differentiate rocks from metal cylinders.\n",
    "It is a well understood dataset. All of the variables are continuous and generally in the\n",
    "range of 0 to 1. The output variable is a string M for mine and R for rock, which will need to be\n",
    "converted to integers 1 and 0. The dataset contains 208 observations. You can download the dataset\n",
    "and place it in your working directory with the filename sonar.csv (https://archive.ics.uci.edu/ml/machine-learning-databases/undocumented/connectionist-bench/sonar/sonar.all-data).\n",
    "A benefit of using this dataset is that it is a standard benchmark problem. This means\n",
    "that we have some idea of the expected skill of a good model. Using cross validation, a neural\n",
    "network should be able to achieve performance around 84% with an upper bound on accuracy for custom models at around 88% (http://www.is.umk.pl/projects/datasets.html#Sonar) . You can learn more about this dataset on the UCI Machine\n",
    "Learning repository (https://archive.ics.uci.edu/ml/datasets/Connectionist+Bench+(Sonar,+Mines+vs.+Rocks)) .\n",
    "\n",
    "### 1.2 Baseline Neural Network Model Performance\n",
    "Let’s create a baseline model and result for this problem. We will start off by importing all of\n",
    "the classes and functions we will need."
   ]
  },
  {
   "cell_type": "code",
   "execution_count": 3,
   "metadata": {
    "collapsed": false
   },
   "outputs": [],
   "source": [
    "# Import Classes and Functions.\n",
    "import numpy\n",
    "import pandas\n",
    "from keras.models import Sequential\n",
    "from keras.layers import Dense\n",
    "from keras.wrappers.scikit_learn import KerasClassifier\n",
    "from sklearn.cross_validation import cross_val_score\n",
    "from sklearn.preprocessing import LabelEncoder\n",
    "from sklearn.cross_validation import StratifiedKFold\n",
    "from sklearn.preprocessing import StandardScaler\n",
    "from sklearn.pipeline import Pipeline"
   ]
  },
  {
   "cell_type": "markdown",
   "metadata": {},
   "source": [
    "Next, we can initialize the random number generator to ensure that we always get the same\n",
    "results when executing this code. This will help if we are debugging."
   ]
  },
  {
   "cell_type": "code",
   "execution_count": 4,
   "metadata": {
    "collapsed": true
   },
   "outputs": [],
   "source": [
    "# fix random seed for reproducibility\n",
    "# Initialize The Random Number Generator.\n",
    "seed = 7\n",
    "numpy.random.seed(seed)"
   ]
  },
  {
   "cell_type": "markdown",
   "metadata": {},
   "source": [
    "Now we can load the dataset using Pandas and split the columns into 60 input variables (X)\n",
    "and 1 output variable (Y ). We use Pandas to load the data because it easily handles strings\n",
    "(the output variable), whereas attempting to load the data directly using NumPy would be\n",
    "more difficult."
   ]
  },
  {
   "cell_type": "code",
   "execution_count": 5,
   "metadata": {
    "collapsed": true
   },
   "outputs": [],
   "source": [
    "# Load The Dataset And Separate Into Input and Output Variables.\n",
    "# load dataset\n",
    "dataframe = pandas.read_csv(\"sonar.csv\", header=None)\n",
    "dataset = dataframe.values\n",
    "# split into input (X) and output (Y) variables\n",
    "X = dataset[:,0:60].astype(float)\n",
    "Y = dataset[:,60]"
   ]
  },
  {
   "cell_type": "markdown",
   "metadata": {},
   "source": [
    "The output variable is string values. We must convert them into integer values 0 and 1. We\n",
    "can do this using the LabelEncoder class from scikit-learn. This class will model the encoding\n",
    "required using the entire dataset via the fit() function, then apply the encoding to create a\n",
    "new output variable using the transform() function."
   ]
  },
  {
   "cell_type": "code",
   "execution_count": 6,
   "metadata": {
    "collapsed": true
   },
   "outputs": [],
   "source": [
    "# encode class values as integers\n",
    "# Label Encode Output Variable.\n",
    "encoder = LabelEncoder()\n",
    "encoder.fit(Y)\n",
    "encoded_Y = encoder.transform(Y)"
   ]
  },
  {
   "cell_type": "markdown",
   "metadata": {},
   "source": [
    "We are now ready to create our neural network model using Keras. We are going to use\n",
    "scikit-learn to evaluate the model using stratified k-fold cross validation. This is a resampling\n",
    "technique that will provide an estimate of the performance of the model. To use Keras models\n",
    "with scikit-learn, we must use the KerasClassifier wrapper. This class takes a function that\n",
    "creates and returns our neural network model. It also takes arguments that it will pass along to\n",
    "the call to fit() such as the number of epochs and the batch size. Let’s start off by defining the\n",
    "function that creates our baseline model. Our model will have a single fully connected hidden\n",
    "layer with the same number of neurons as input variables. This is a good default starting point\n",
    "when creating neural networks on a new problem.\n",
    "\n",
    "The weights are initialized using a small Gaussian random number. The Rectifier activation\n",
    "function is used. The output layer contains a single neuron in order to make predictions. It\n",
    "uses the sigmoid activation function in order to produce a probability output in the range of\n",
    "0 to 1 that can easily and automatically be converted to crisp class values. Finally, we are\n",
    "using the logarithmic loss function (binary crossentropy) during training, the preferred loss\n",
    "function for binary classification problems. The model also uses the efficient Adam optimization\n",
    "algorithm for gradient descent and accuracy metrics will be collected when the model is trained.\n"
   ]
  },
  {
   "cell_type": "code",
   "execution_count": 9,
   "metadata": {
    "collapsed": false
   },
   "outputs": [],
   "source": [
    "# baseline model\n",
    "# Define and Compile Baseline Model.\n",
    "def create_baseline():\n",
    "    # create model\n",
    "    model = Sequential()\n",
    "    model.add(Dense(60, input_dim=60, init= 'normal' , activation= 'relu' ))\n",
    "    model.add(Dense(1, init= 'normal' , activation= 'sigmoid' ))\n",
    "    # Compile model\n",
    "    model.compile(loss= 'binary_crossentropy' , optimizer= 'adam' , metrics=[ 'accuracy' ])\n",
    "    return model"
   ]
  },
  {
   "cell_type": "markdown",
   "metadata": {},
   "source": [
    "Now it is time to evaluate this model using stratified cross validation in the scikit-learn\n",
    "framework. We pass the number of training epochs to the KerasClassifier, again using\n",
    "reasonable default values. Verbose output is also turned off given that the model will be created\n",
    "10 times for the 10-fold cross validation being performed.\n"
   ]
  },
  {
   "cell_type": "code",
   "execution_count": 10,
   "metadata": {
    "collapsed": false
   },
   "outputs": [
    {
     "name": "stdout",
     "output_type": "stream",
     "text": [
      "Baseline: 79.78% (8.78%)\n"
     ]
    }
   ],
   "source": [
    "# evaluate model with standardized dataset\n",
    "# Fit And Evaluate Baseline Model.\n",
    "estimator = KerasClassifier(build_fn=create_baseline, nb_epoch=100, batch_size=5, verbose=0)\n",
    "kfold = StratifiedKFold(y=encoded_Y, n_folds=10, shuffle=True, random_state=seed)\n",
    "results = cross_val_score(estimator, X, encoded_Y, cv=kfold)\n",
    "print(\"Baseline: %.2f%% (%.2f%%)\" % (results.mean()*100, results.std()*100))"
   ]
  },
  {
   "cell_type": "markdown",
   "metadata": {},
   "source": [
    "Running this code produces the following output showing the mean and standard deviation\n",
    "of the estimated accuracy of the model on unseen data.\n",
    "\n",
    "Sample Output From Fitting And Evaluating The Baseline Model.\n",
    "\n",
    "Baseline: 79.78% (8.78%)\n",
    "\n",
    "This is an excellent score without doing any hard work."
   ]
  },
  {
   "cell_type": "markdown",
   "metadata": {},
   "source": [
    "### 1.3 Improve Performance With Data Preparation\n",
    "It is a good practice to prepare your data before modeling. Neural network models are especially\n",
    "suitable to having consistent input values, both in scale and distribution. An effective data\n",
    "preparation scheme for tabular data when building neural network models is standardization.\n",
    "This is where the data is rescaled such that the mean value for each attribute is 0 and the standard\n",
    "deviation is 1. This preserves Gaussian and Gaussian-like distributions whilst normalizing the\n",
    "central tendencies for each attribute.\n",
    "\n",
    "We can use scikit-learn to perform the standardization of our Sonar dataset using the\n",
    "StandardScaler class. Rather than performing the standardization on the entire dataset, it is\n",
    "good practice to train the standardization procedure on the training data within the pass of a\n",
    "cross validation run and to use the trained standardization instance to prepare the unseen test\n",
    "fold. This makes standardization a step in model preparation in the cross validation process\n",
    "and it prevents the algorithm having knowledge of unseen data during evaluation, knowledge\n",
    "that might be passed from the data preparation scheme like a crisper distribution.\n",
    "\n",
    "We can achieve this in scikit-learn using a Pipeline class. The pipeline is a wrapper that\n",
    "executes one or more models within a pass of the cross validation procedure. Here, we can\n",
    "define a pipeline with the StandardScaler followed by our neural network model."
   ]
  },
  {
   "cell_type": "code",
   "execution_count": 11,
   "metadata": {
    "collapsed": false
   },
   "outputs": [
    {
     "name": "stdout",
     "output_type": "stream",
     "text": [
      "Standardized: 85.54% (6.19%)\n"
     ]
    }
   ],
   "source": [
    "# Binary Classification with Sonar Dataset: Standardized\n",
    "# Update Experiment To Use Data Standardization.\n",
    "import numpy\n",
    "import pandas\n",
    "from keras.models import Sequential\n",
    "from keras.layers import Dense\n",
    "from keras.wrappers.scikit_learn import KerasClassifier\n",
    "from sklearn.cross_validation import cross_val_score\n",
    "from sklearn.preprocessing import LabelEncoder\n",
    "from sklearn.cross_validation import StratifiedKFold\n",
    "from sklearn.preprocessing import StandardScaler\n",
    "from sklearn.pipeline import Pipeline\n",
    "# fix random seed for reproducibility\n",
    "seed = 7\n",
    "numpy.random.seed(seed)\n",
    "# load dataset\n",
    "dataframe = pandas.read_csv(\"sonar.csv\", header=None)\n",
    "dataset = dataframe.values\n",
    "# split into input (X) and output (Y) variables\n",
    "X = dataset[:,0:60].astype(float)\n",
    "Y = dataset[:,60]\n",
    "# encode class values as integers\n",
    "encoder = LabelEncoder()\n",
    "encoder.fit(Y)\n",
    "encoded_Y = encoder.transform(Y)\n",
    "# baseline model\n",
    "def create_baseline():\n",
    "    # create model\n",
    "    model = Sequential()\n",
    "    model.add(Dense(60, input_dim=60, init= 'normal' , activation= 'relu' ))\n",
    "    model.add(Dense(1, init= 'normal' , activation= 'sigmoid' ))\n",
    "    # Compile model\n",
    "    model.compile(loss= 'binary_crossentropy' , optimizer= 'adam' , metrics=['accuracy'])\n",
    "    return model\n",
    "\n",
    "# evaluate baseline model with standardized dataset\n",
    "numpy.random.seed(seed)\n",
    "estimators = []\n",
    "estimators.append(( 'standardize' , StandardScaler()))\n",
    "estimators.append(( 'mlp' , KerasClassifier(build_fn=create_baseline, nb_epoch=100, batch_size=5, verbose=0)))\n",
    "pipeline = Pipeline(estimators)\n",
    "kfold = StratifiedKFold(y=encoded_Y, n_folds=10, shuffle=True, random_state=seed)\n",
    "results = cross_val_score(pipeline, X, encoded_Y, cv=kfold)\n",
    "print(\"Standardized: %.2f%% (%.2f%%)\" % (results.mean()*100, results.std()*100))"
   ]
  },
  {
   "cell_type": "markdown",
   "metadata": {},
   "source": [
    "Running this example provides the results below. We do see a small but very nice lift in the\n",
    "mean accuracy.\n",
    "\n",
    "Standardized: 85.54% (6.19%)\n",
    "    \n",
    "Sample Output From Update Using Data Standardization.\n",
    "\n",
    "### 1.4 Tuning Layers and Neurons in The Model\n",
    "There are many things to tune on a neural network, such as the weight initialization, activation\n",
    "functions, optimization procedure and so on. One aspect that may have an outsized effect is the\n",
    "structure of the network itself called the network topology. In this section we take a look at two\n",
    "experiments on the structure of the network: making it smaller and making it larger. These are\n",
    "good experiments to perform when tuning a neural network on your problem.\n",
    "\n",
    "#### 1.4.1 Evaluate a Smaller Network\n",
    "I suspect that there is a lot of redundancy in the input variables for this problem. The data\n",
    "describes the same signal from different angles. Perhaps some of those angles are more relevant\n",
    "than others. We can force a type of feature extraction by the network by restricting the\n",
    "representational space in the first hidden layer.\n",
    "In this experiment we take our baseline model with 60 neurons in the hidden layer and\n",
    "reduce it by half to 30. This will put pressure on the network during training to pick out the\n",
    "most important structure in the input data to model. We will also standardize the data as in\n",
    "the previous experiment with data preparation and try to take advantage of the small lift in\n",
    "performance."
   ]
  },
  {
   "cell_type": "code",
   "execution_count": 13,
   "metadata": {
    "collapsed": false
   },
   "outputs": [
    {
     "name": "stdout",
     "output_type": "stream",
     "text": [
      "Smaller: 86.02% (4.63%)\n"
     ]
    }
   ],
   "source": [
    "# Binary Classification with Sonar Dataset: Standardized Smaller\n",
    "# Update To Use a Smaller Network Topology.\n",
    "import numpy\n",
    "import pandas\n",
    "from keras.models import Sequential\n",
    "from keras.layers import Dense\n",
    "from keras.wrappers.scikit_learn import KerasClassifier\n",
    "from sklearn.cross_validation import cross_val_score\n",
    "from sklearn.preprocessing import LabelEncoder\n",
    "from sklearn.cross_validation import StratifiedKFold\n",
    "from sklearn.preprocessing import StandardScaler\n",
    "from sklearn.pipeline import Pipeline\n",
    "# fix random seed for reproducibility11.4. Tuning Layers and Neurons in The Model\n",
    "seed = 7\n",
    "numpy.random.seed(seed)\n",
    "# load dataset\n",
    "dataframe = pandas.read_csv(\"sonar.csv\", header=None)\n",
    "dataset = dataframe.values\n",
    "# split into input (X) and output (Y) variables\n",
    "X = dataset[:,0:60].astype(float)\n",
    "Y = dataset[:,60]\n",
    "# encode class values as integers\n",
    "encoder = LabelEncoder()\n",
    "encoder.fit(Y)\n",
    "encoded_Y = encoder.transform(Y)\n",
    "# smaller model\n",
    "def create_smaller():\n",
    "# create model\n",
    "    model = Sequential()\n",
    "    model.add(Dense(30, input_dim=60, init= 'normal' , activation= 'relu' ))\n",
    "    model.add(Dense(1, init= 'normal' , activation= 'sigmoid' ))\n",
    "    # Compile model\n",
    "    model.compile(loss= 'binary_crossentropy' , optimizer= 'adam' , metrics=['accuracy'])\n",
    "    return model\n",
    "numpy.random.seed(seed)\n",
    "estimators = []\n",
    "estimators.append(( 'standardize' , StandardScaler()))\n",
    "estimators.append(( 'mlp' , KerasClassifier(build_fn=create_smaller, nb_epoch=100, batch_size=5, verbose=0)))\n",
    "pipeline = Pipeline(estimators)\n",
    "kfold = StratifiedKFold(y=encoded_Y, n_folds=10, shuffle=True, random_state=seed)\n",
    "results = cross_val_score(pipeline, X, encoded_Y, cv=kfold)\n",
    "print(\"Smaller: %.2f%% (%.2f%%)\" % (results.mean()*100, results.std()*100))\n"
   ]
  },
  {
   "cell_type": "markdown",
   "metadata": {},
   "source": [
    "Running this example provides the following result. We can see that we have a very slight\n",
    "boost in the mean estimated accuracy and an important reduction in the standard deviation\n",
    "(average spread) of the accuracy scores for the model. This is a great result because we are\n",
    "doing slightly better with a network half the size, which in turn takes half the time to train.\n",
    "\n",
    "Smaller: 86.02% (4.63%)\n",
    "\n",
    "Sample Output From Using A Smaller Network Topology.\n",
    "\n",
    "#### 1.4.2 Evaluate a Larger Network\n",
    "A neural network topology with more layers offers more opportunity for the network to extract\n",
    "key features and recombine them in useful nonlinear ways. We can evaluate whether adding\n",
    "more layers to the network improves the performance easily by making another small tweak to\n",
    "the function used to create our model. Here, we add one new layer (one line) to the network\n",
    "that introduces another hidden layer with 30 neurons after the first hidden layer. Our network\n",
    "now has the topology:\n",
    "    \n",
    "``` 60 inputs -> [60 -> 30] -> 1 output ```\n",
    "\n",
    "Summary of New Network Topology.\n",
    "\n",
    "The idea here is that the network is given the opportunity to model all input variables\n",
    "before being bottlenecked and forced to halve the representational capacity, much like we did in\n",
    "the experiment above with the smaller network. Instead of squeezing the representation of the\n",
    "inputs themselves, we have an additional hidden layer to aid in the process."
   ]
  },
  {
   "cell_type": "code",
   "execution_count": 16,
   "metadata": {
    "collapsed": false
   },
   "outputs": [
    {
     "name": "stdout",
     "output_type": "stream",
     "text": [
      "Larger: 85.09% (5.45%)\n"
     ]
    }
   ],
   "source": [
    "# Binary Classification with Sonar Dataset: Standardized Smaller\n",
    "# Update To Use a Larger Network Topology.\n",
    "import numpy\n",
    "import pandas\n",
    "from keras.models import Sequential\n",
    "from keras.layers import Dense\n",
    "from keras.wrappers.scikit_learn import KerasClassifier\n",
    "from sklearn.cross_validation import cross_val_score\n",
    "from sklearn.preprocessing import LabelEncoder\n",
    "from sklearn.cross_validation import StratifiedKFold\n",
    "from sklearn.preprocessing import StandardScaler\n",
    "from sklearn.pipeline import Pipeline\n",
    "# fix random seed for reproducibility\n",
    "seed = 7\n",
    "numpy.random.seed(seed)\n",
    "# load dataset\n",
    "dataframe = pandas.read_csv(\"sonar.csv\", header=None)\n",
    "dataset = dataframe.values\n",
    "# split into input (X) and output (Y) variables\n",
    "X = dataset[:,0:60].astype(float)\n",
    "Y = dataset[:,60]\n",
    "# encode class values as integers\n",
    "encoder = LabelEncoder()\n",
    "encoder.fit(Y)\n",
    "encoded_Y = encoder.transform(Y)\n",
    "# smaller model\n",
    "def create_smaller():\n",
    "# create model\n",
    "    model = Sequential()\n",
    "    model.add(Dense(60, input_dim=60, init= 'normal' , activation= 'relu' ))\n",
    "    model.add(Dense(1, init= 'normal' , activation= 'sigmoid' ))\n",
    "    # Compile model\n",
    "    model.compile(loss= 'binary_crossentropy' , optimizer= 'adam' , metrics=['accuracy'])\n",
    "    return model\n",
    "numpy.random.seed(seed)\n",
    "estimators = []\n",
    "estimators.append(( 'standardize' , StandardScaler()))\n",
    "estimators.append(( 'mlp' , KerasClassifier(build_fn=create_smaller, nb_epoch=100, batch_size=5, verbose=0)))\n",
    "pipeline = Pipeline(estimators)\n",
    "kfold = StratifiedKFold(y=encoded_Y, n_folds=10, shuffle=True, random_state=seed)\n",
    "results = cross_val_score(pipeline, X, encoded_Y, cv=kfold)\n",
    "print(\"Larger: %.2f%% (%.2f%%)\" % (results.mean()*100, results.std()*100))"
   ]
  },
  {
   "cell_type": "markdown",
   "metadata": {},
   "source": [
    "Running this example produces the results below. We can see that we do get a nice lift in\n",
    "the model performance, achieving near state-of-the-art results with very little effort indeed.\n",
    "\n",
    "Larger: 85.09% (5.45%)\n",
    "\n",
    "Sample Output From Using A Larger Network Topology."
   ]
  },
  {
   "cell_type": "markdown",
   "metadata": {},
   "source": [
    "With further tuning of aspects like the optimization algorithm and the number of training\n",
    "epochs, it is expected that further improvements are possible. What is the best score that you\n",
    "can achieve on this dataset?\n",
    "### 1.5 Summary\n",
    "In this lesson you discovered how you can work through a binary classification problem step-by-\n",
    "step with Keras, specifically:\n",
    "1. How to load and prepare data for use in Keras.\n",
    "2. How to create a baseline neural network model.\n",
    "3. How to evaluate a Keras model using scikit-learn and stratified k-fold cross validation.\n",
    "4. How data preparation schemes can lift the performance of your models.\n",
    "5. How experiments adjusting the network topology can lift model performance.\n",
    "\n",
    "#### 1.5.1 Next\n",
    "You now know how to develop neural network models in Keras for multiclass and binary\n",
    "classification problems. In the next tutorial you will work through a project to develop neural\n",
    "network models for a regression problem."
   ]
  },
  {
   "cell_type": "code",
   "execution_count": null,
   "metadata": {
    "collapsed": true
   },
   "outputs": [],
   "source": []
  }
 ],
 "metadata": {
  "anaconda-cloud": {},
  "kernelspec": {
   "display_name": "Python [default]",
   "language": "python",
   "name": "python2"
  },
  "language_info": {
   "codemirror_mode": {
    "name": "ipython",
    "version": 2
   },
   "file_extension": ".py",
   "mimetype": "text/x-python",
   "name": "python",
   "nbconvert_exporter": "python",
   "pygments_lexer": "ipython2",
   "version": "2.7.12"
  }
 },
 "nbformat": 4,
 "nbformat_minor": 1
}
