{
 "cells": [
  {
   "cell_type": "markdown",
   "metadata": {},
   "source": [
    "# Regression Of Boston House Prices\n",
    "In this project tutorial you will discover how to develop and evaluate neural network models\n",
    "using Keras for a regression problem. After completing this step-by-step tutorial, you will know:\n",
    "1. How to load a CSV dataset and make it available to Keras.\n",
    "2. How to create a neural network model with Keras for a regression problem.\n",
    "3. How to use scikit-learn with Keras to evaluate models using cross validation.\n",
    "4. How to perform data preparation in order to improve skill with Keras models.\n",
    "5. How to tune the network topology of models with Keras.\n",
    "\n",
    "Let’s get started.\n",
    "\n",
    "## 1.1 Boston House Price Dataset\n",
    "\n",
    "The problem that we will look at in this tutorial is the Boston house price dataset. The dataset\n",
    "describes properties of houses in Boston suburbs and is concerned with modeling the price of\n",
    "houses in those suburbs in thousands of dollars. As such, this is a regression predictive modeling\n",
    "problem. There are 13 input variables that describe the properties of a given Boston suburb.\n",
    "The full list of attributes in this dataset are as follows:\n",
    "1. CRIM: per capita crime rate by town.\n",
    "2. ZN: proportion of residential land zoned for lots over 25,000 sq.ft.\n",
    "3. INDUS: proportion of non-retail business acres per town.\n",
    "4. CHAS: Charles River dummy variable (= 1 if tract bounds river; 0 otherwise).\n",
    "5. NOX: nitric oxides concentration (parts per 10 million).\n",
    "6. RM: average number of rooms per dwelling.\n",
    "7. AGE: proportion of owner-occupied units built prior to 1940.\n",
    "8. DIS: weighted distances to five Boston employment centers.\n",
    "9. RAD: index of accessibility to radial highways.\n",
    "10. TAX: full-value property-tax rate per ✩ 10,000.\n",
    "11. PTRATIO: pupil-teacher ratio by town.\n",
    "12. B: 1000(Bk − 0.63) 2 where Bk is the proportion of blacks by town.\n",
    "13. LSTAT: % lower status of the population.\n",
    "14. MEDV: Median value of owner-occupied homes in ✩ 1000s.\n",
    "This is a well studied problem in machine learning. It is convenient to work with because all\n",
    "of the input and output attributes are numerical and there are 506 instances to work with. A\n",
    "sample of the first 5 rows of the 506 in the dataset is provided below:\n",
    "\n",
    "![alt text](sample_data.png \"Title\")\n",
    "\n",
    "Sample of the Boston House Price Dataset.\n",
    "The dataset is available in the bundle of source code provided with this book. Alternatively,\n",
    "you can download this dataset and save it to your current working directly with the file name\n",
    "housing.csv (https://archive.ics.uci.edu/ml/machine-learning-databases/housing/housing.data). Reasonable performance for models evaluated using Mean Squared Error (MSE)\n",
    "are around 20 in squared thousands of dollars (or $4,500 if you take the square root). This is a\n",
    "nice target to aim for with our neural network model. You can learn more about the Boston\n",
    "house price dataset on the UCI Machine Learning Repository (https://archive.ics.uci.edu/ml/datasets/Housing) .\n",
    "\n",
    "## 1.2 Develop a Baseline Neural Network Model\n",
    "In this section we will create a baseline neural network model for the regression problem. Let’s\n",
    "start off by importing all of the functions and objects we will need for this tutorial."
   ]
  },
  {
   "cell_type": "code",
   "execution_count": 1,
   "metadata": {
    "collapsed": false
   },
   "outputs": [
    {
     "name": "stderr",
     "output_type": "stream",
     "text": [
      "Using TensorFlow backend.\n",
      "/home/isaac/anaconda2/lib/python2.7/site-packages/sklearn/cross_validation.py:41: DeprecationWarning: This module was deprecated in version 0.18 in favor of the model_selection module into which all the refactored classes and functions are moved. Also note that the interface of the new CV iterators are different from that of this module. This module will be removed in 0.20.\n",
      "  \"This module will be removed in 0.20.\", DeprecationWarning)\n"
     ]
    }
   ],
   "source": [
    "# Import Classes and Functions.\n",
    "import numpy\n",
    "import pandas\n",
    "from keras.models import Sequential\n",
    "from keras.layers import Dense\n",
    "from keras.wrappers.scikit_learn import KerasRegressor\n",
    "from sklearn.cross_validation import cross_val_score\n",
    "from sklearn.cross_validation import KFold\n",
    "from sklearn.preprocessing import StandardScaler\n",
    "from sklearn.pipeline import Pipeline"
   ]
  },
  {
   "cell_type": "markdown",
   "metadata": {},
   "source": [
    "We can now load our dataset from a file in the local directory. The dataset is in fact not in\n",
    "CSV format on the UCI Machine Learning Repository, the attributes are instead separated by\n",
    "whitespace. We can load this easily using the Pandas library. We can then split the input (X)\n",
    "and output (Y ) attributes so that they are easier to model with Keras and scikit-learn."
   ]
  },
  {
   "cell_type": "code",
   "execution_count": 2,
   "metadata": {
    "collapsed": true
   },
   "outputs": [],
   "source": [
    "# load dataset\n",
    "# Load Dataset and Separate Into Input and Output Variables.\n",
    "dataframe = pandas.read_csv(\"housing.csv\", delim_whitespace=True, header=None)\n",
    "dataset = dataframe.values\n",
    "# split into input (X) and output (Y) variables\n",
    "X = dataset[:,0:13]\n",
    "Y = dataset[:,13]"
   ]
  },
  {
   "cell_type": "markdown",
   "metadata": {},
   "source": [
    "We can create Keras models and evaluate them with scikit-learn by using handy wrapper\n",
    "objects provided by the Keras library. This is desirable, because scikit-learn excels at evaluating\n",
    "models and will allow us to use powerful data preparation and model evaluation schemes with\n",
    "very few lines of code. The Keras wrapper class require a function as an argument. This function\n",
    "that we must define is responsible for creating the neural network model to be evaluated.\n",
    "\n",
    "Below we define the function to create the baseline model to be evaluated. It is a simple\n",
    "model that has a single fully connected hidden layer with the same number of neurons as input\n",
    "attributes (13). The network uses good practices such as the rectifier activation function for\n",
    "the hidden layer. No activation function is used for the output layer because it is a regression\n",
    "problem and we are interested in predicting numerical values directly without transform.\n",
    "The efficient ADAM optimization algorithm is used and a mean squared error loss function\n",
    "is optimized. This will be the same metric that we will use to evaluate the performance of the\n",
    "model. It is a desirable metric because by taking the square root of an error value it gives us a\n",
    "result that we can directly understand in the context of the problem with the units in thousands\n",
    "of dollars.\n"
   ]
  },
  {
   "cell_type": "code",
   "execution_count": 4,
   "metadata": {
    "collapsed": false
   },
   "outputs": [],
   "source": [
    "# define base mode\n",
    "# Define and Compile a Baseline Neural Network Model.\n",
    "def baseline_model():\n",
    "    # create model\n",
    "    model = Sequential()\n",
    "    model.add(Dense(13, input_dim=13, init= 'normal' , activation= 'relu' ))\n",
    "    model.add(Dense(1, init= 'normal' ))\n",
    "    # Compile model\n",
    "    model.compile(loss= 'mean_squared_error' , optimizer= 'adam' )\n",
    "    return model"
   ]
  },
  {
   "cell_type": "markdown",
   "metadata": {},
   "source": [
    "The Keras wrapper object for use in scikit-learn as a regression estimator is called KerasRegressor.\n",
    "We create an instance and pass it both the name of the function to create the neural network\n",
    "model as well as some parameters to pass along to the fit() function of the model later, such\n",
    "as the number of epochs and batch size. Both of these are set to sensible defaults. We also\n",
    "initialize the random number generator with a constant random seed, a process we will repeat\n",
    "for each model evaluated in this tutorial. This is to ensure we compare models consistently and\n",
    "that the results are reproducible.\n"
   ]
  },
  {
   "cell_type": "code",
   "execution_count": 5,
   "metadata": {
    "collapsed": true
   },
   "outputs": [],
   "source": [
    "# fix random seed for reproducibility\n",
    "# Initialize Random Number Generator and Prepare Model Wrapper for scikit-learn.\n",
    "seed = 7\n",
    "numpy.random.seed(seed)\n",
    "\n",
    "# Lift Performance By Standardizing The Dataset\n",
    "# evaluate model with standardized dataset\n",
    "estimator = KerasRegressor(build_fn=baseline_model, nb_epoch=100, batch_size=5, verbose=0)"
   ]
  },
  {
   "cell_type": "markdown",
   "metadata": {},
   "source": [
    "The final step is to evaluate this baseline model. We will use 10-fold cross validation to\n",
    "evaluate the model."
   ]
  },
  {
   "cell_type": "code",
   "execution_count": 6,
   "metadata": {
    "collapsed": false
   },
   "outputs": [
    {
     "name": "stdout",
     "output_type": "stream",
     "text": [
      "Baseline: 30.85 (26.52) MSE\n"
     ]
    }
   ],
   "source": [
    "# Evaluate Baseline Model.\n",
    "kfold = KFold(n=len(X), n_folds=10, random_state=seed)\n",
    "results = cross_val_score(estimator, X, Y, cv=kfold)\n",
    "print(\"Baseline: %.2f (%.2f) MSE\" % (results.mean(), results.std()))"
   ]
  },
  {
   "cell_type": "markdown",
   "metadata": {},
   "source": [
    "Running this code gives us an estimate of the model’s performance on the problem for unseen\n",
    "data. The result reports the mean squared error including the average and standard deviation\n",
    "(average variance) across all 10 folds of the cross validation evaluation.\n",
    "\n",
    "Baseline: 38.04 (28.15) MSE\n",
    "\n",
    "Sample Output From Evaluating the Baseline Model.\n",
    "\n",
    "## 1.3 Lift Performance By Standardizing The Dataset\n",
    "An important concern with the Boston house price dataset is that the input attributes all vary\n",
    "in their scales because they measure different quantities. It is almost always good practice to\n",
    "prepare your data before modeling it using a neural network model. Continuing on from the\n",
    "above baseline model, we can re-evaluate the same model using a standardized version of the\n",
    "input dataset.\n",
    "\n",
    "We can use scikit-learn’s Pipeline framework (http://scikit-learn.org/stable/modules/generated/sklearn.pipeline.Pipeline.html) to perform the standardization during the\n",
    "model evaluation process, within each fold of the cross validation. This ensures that there is\n",
    "no data leakage from each testset cross validation fold into the training data. The code below\n",
    "creates a scikit-learn Pipeline that first standardizes the dataset then creates and evaluates\n",
    "the baseline neural network model.\n"
   ]
  },
  {
   "cell_type": "code",
   "execution_count": 7,
   "metadata": {
    "collapsed": false
   },
   "outputs": [
    {
     "name": "stdout",
     "output_type": "stream",
     "text": [
      "Standardized: 31.57 (31.57) MSE\n"
     ]
    }
   ],
   "source": [
    "# Regression Example With Boston Dataset: Standardized\n",
    "# Update To Use a Standardized Dataset.\n",
    "import numpy\n",
    "import pandas\n",
    "from keras.models import Sequential\n",
    "from keras.layers import Dense\n",
    "from keras.wrappers.scikit_learn import KerasRegressor\n",
    "from sklearn.cross_validation import cross_val_score\n",
    "from sklearn.cross_validation import KFold\n",
    "from sklearn.preprocessing import StandardScaler\n",
    "from sklearn.pipeline import Pipeline\n",
    "# load dataset\n",
    "dataframe = pandas.read_csv(\"housing.csv\", delim_whitespace=True, header=None)\n",
    "dataset = dataframe.values\n",
    "# split into input (X) and output (Y) variables\n",
    "X = dataset[:,0:13]\n",
    "Y = dataset[:,13]\n",
    "# define base model\n",
    "def baseline_model():\n",
    "    # create model\n",
    "    model = Sequential()\n",
    "    model.add(Dense(13, input_dim=13, init= 'normal' , activation= 'relu' ))\n",
    "    model.add(Dense(1, init= 'normal' ))\n",
    "    # Compile model\n",
    "    model.compile(loss= 'mean_squared_error' , optimizer= 'adam' )\n",
    "    return model\n",
    "# fix random seed for reproducibility\n",
    "seed = 7\n",
    "numpy.random.seed(seed)\n",
    "# evaluate model with standardized dataset\n",
    "estimators = []\n",
    "estimators.append(( 'standardize' , StandardScaler()))\n",
    "estimators.append(( 'mlp' , KerasRegressor(build_fn=baseline_model, nb_epoch=50, batch_size=5, verbose=0)))\n",
    "pipeline = Pipeline(estimators)\n",
    "kfold = KFold(n=len(X), n_folds=10, random_state=seed)\n",
    "results = cross_val_score(pipeline, X, Y, cv=kfold)\n",
    "print(\"Standardized: %.2f (%.2f) MSE\" % (results.mean(), results.std()))"
   ]
  },
  {
   "cell_type": "markdown",
   "metadata": {},
   "source": [
    "Running the example provides an improved performance over the baseline model without\n",
    "standardized data, dropping the error by 10 thousand squared dollars.\n",
    "\n",
    "Standardized: 31.57 (31.57) MSE\n",
    "\n",
    "Sample Output From Evaluating the Model on The Standardized Dataset.\n",
    "\n",
    "A further extension of this section would be to similarly apply a rescaling to the output\n",
    "variable such as normalizing it to the range of 0 to 1 and use a Sigmoid or similar activation\n",
    "function on the output layer to narrow output predictions to the same range.\n",
    "\n",
    "## 1.4 Tune The Neural Network Topology\n",
    "There are many concerns that can be optimized for a neural network model. Perhaps the point\n",
    "of biggest leverage is the structure of the network itself, including the number of layers and\n",
    "the number of neurons in each layer. In this section we will evaluate two additional network\n",
    "topologies in an effort to further improve the performance of the model. We will look at both a\n",
    "deeper and a wider network topology.\n",
    "\n",
    "### 1.4.1 Evaluate a Deeper Network Topology\n",
    "One way to improve the performance of a neural network is to add more layers. This might\n",
    "allow the model to extract and recombine higher order features embedded in the data. In this\n",
    "section we will evaluate the effect of adding one more hidden layer to the model. This is as easy\n",
    "as defining a new function that will create this deeper model, copied from our baseline model\n",
    "above. We can then insert a new line after the first hidden layer. In this case with about half\n",
    "the number of neurons. Our network topology now looks like:12.4. Tune The Neural Network Topology\n",
    "\n",
    "``` 13 inputs -> [13 -> 6] -> 1 output ```\n",
    "\n",
    "Summary of Deeper Network Topology.\n",
    "\n",
    "We can evaluate this network topology in the same way as above, whilst also using the\n",
    "standardization of the dataset that above was shown to improve performance."
   ]
  },
  {
   "cell_type": "code",
   "execution_count": 8,
   "metadata": {
    "collapsed": false
   },
   "outputs": [
    {
     "name": "stdout",
     "output_type": "stream",
     "text": [
      "Larger: 22.84 (28.18) MSE\n"
     ]
    }
   ],
   "source": [
    "# Regression Example With Boston Dataset: Standardized and Larger\n",
    "# Evaluate the Larger Neural Network Model.\n",
    "import numpy\n",
    "import pandas\n",
    "from keras.models import Sequential\n",
    "from keras.layers import Dense\n",
    "from keras.wrappers.scikit_learn import KerasRegressor\n",
    "from sklearn.cross_validation import cross_val_score\n",
    "from sklearn.cross_validation import KFold\n",
    "from sklearn.preprocessing import StandardScaler\n",
    "from sklearn.pipeline import Pipeline\n",
    "# load dataset\n",
    "dataframe = pandas.read_csv(\"housing.csv\", delim_whitespace=True, header=None)\n",
    "dataset = dataframe.values\n",
    "# split into input (X) and output (Y) variables\n",
    "X = dataset[:,0:13]\n",
    "Y = dataset[:,13]\n",
    "# define the model\n",
    "def larger_model():\n",
    "    # create model\n",
    "    model = Sequential()\n",
    "    model.add(Dense(13, input_dim=13, init= 'normal', activation= 'relu' ))\n",
    "    model.add(Dense(6, init= 'normal' , activation= 'relu' ))\n",
    "    model.add(Dense(1, init= 'normal' ))\n",
    "    # Compile model\n",
    "    model.compile(loss= 'mean_squared_error' , optimizer= 'adam' )\n",
    "    return model\n",
    "# fix random seed for reproducibility\n",
    "seed = 7\n",
    "numpy.random.seed(seed)\n",
    "# evaluate model with standardized dataset\n",
    "estimators = []\n",
    "estimators.append(( 'standardize', StandardScaler()))\n",
    "estimators.append(( 'mlp' , KerasRegressor(build_fn=larger_model, nb_epoch=50, batch_size=5, verbose=0)))\n",
    "pipeline = Pipeline(estimators)\n",
    "kfold = KFold(n=len(X), n_folds=10, random_state=seed)\n",
    "results = cross_val_score(pipeline, X, Y, cv=kfold)\n",
    "print(\"Larger: %.2f (%.2f) MSE\" % (results.mean(), results.std()))"
   ]
  },
  {
   "cell_type": "markdown",
   "metadata": {},
   "source": [
    "Running this model does show a further improvement in performance from 28 down to 24 thousand squared dollars.\n",
    "\n",
    "Larger: 22.84 (28.18) MSE\n",
    "\n",
    "Sample Output From Evaluating the Deeper Model."
   ]
  },
  {
   "cell_type": "markdown",
   "metadata": {},
   "source": [
    "### 1.4.2 Evaluate a Wider Network Topology\n",
    "Another approach to increasing the representational capacity of the model is to create a wider\n",
    "network. In this section we evaluate the effect of keeping a shallow network architecture and\n",
    "nearly doubling the number of neurons in the one hidden layer. Again, all we need to do is define\n",
    "a new function that creates our neural network model. Here, we have increased the number of\n",
    "neurons in the hidden layer compared to the baseline model from 13 to 20. The topology for\n",
    "our wider network can be summarized as follows:\n",
    "\n",
    "``` 13 inputs -> [20] -> 1 output ```\n",
    "\n",
    "Summary of Wider Network Topology.\n",
    "\n",
    "We can evaluate the wider network topology using the same scheme as above."
   ]
  },
  {
   "cell_type": "code",
   "execution_count": 9,
   "metadata": {
    "collapsed": false
   },
   "outputs": [
    {
     "name": "stderr",
     "output_type": "stream",
     "text": [
      "/home/isaac/anaconda2/lib/python2.7/site-packages/keras/callbacks.py:67: UserWarning: Method on_batch_end() is slow compared to the batch update (0.120506). Check your callbacks.\n",
      "  % delta_t_median)\n"
     ]
    },
    {
     "name": "stdout",
     "output_type": "stream",
     "text": [
      "Wider: 23.41 (26.52) MSE\n"
     ]
    }
   ],
   "source": [
    "# Regression Example With Boston Dataset: Standardized and Wider\n",
    "# Evaluate the Wider Neural Network Model.\n",
    "import numpy\n",
    "import pandas\n",
    "from keras.models import Sequential\n",
    "from keras.layers import Dense\n",
    "from keras.wrappers.scikit_learn import KerasRegressor\n",
    "from sklearn.cross_validation import cross_val_score\n",
    "from sklearn.cross_validation import KFold\n",
    "from sklearn.preprocessing import StandardScaler\n",
    "from sklearn.pipeline import Pipeline\n",
    "# load dataset\n",
    "dataframe = pandas.read_csv(\"housing.csv\", delim_whitespace=True, header=None)\n",
    "dataset = dataframe.values\n",
    "# split into input (X) and output (Y) variables\n",
    "X = dataset[:,0:13]\n",
    "Y = dataset[:,13]\n",
    "# define wider model\n",
    "def wider_model():\n",
    "    # create model\n",
    "    model = Sequential()\n",
    "    model.add(Dense(20, input_dim=13, init= 'normal' , activation= 'relu' ))\n",
    "    model.add(Dense(1, init= 'normal' ))\n",
    "    # Compile model\n",
    "    model.compile(loss= 'mean_squared_error' , optimizer= 'adam' )\n",
    "    return model\n",
    "# fix random seed for reproducibility\n",
    "seed = 7\n",
    "numpy.random.seed(seed)\n",
    "# evaluate model with standardized dataset\n",
    "estimators = []\n",
    "estimators.append(( 'standardize' , StandardScaler()))\n",
    "estimators.append(( 'mlp' , KerasRegressor(build_fn=wider_model, nb_epoch=100, batch_size=5,\n",
    "verbose=0)))\n",
    "pipeline = Pipeline(estimators)\n",
    "kfold = KFold(n=len(X), n_folds=10, random_state=seed)\n",
    "results = cross_val_score(pipeline, X, Y, cv=kfold)\n",
    "print(\"Wider: %.2f (%.2f) MSE\" % (results.mean(), results.std()))"
   ]
  },
  {
   "cell_type": "markdown",
   "metadata": {},
   "source": [
    "Building the model does see a further drop in error to about 21 thousand squared dollars.\n",
    "This is not a bad result for this problem.\n",
    "\n",
    "Wider: 23.41 (26.52) MSE\n",
    "\n",
    "Sample Output From Evaluating the Wider Model.\n",
    "\n",
    "It would have been hard to guess that a wider network would outperform a deeper network\n",
    "on this problem. The results demonstrate the importance of empirical testing when it comes to\n",
    "developing neural network models.\n",
    "\n",
    "## 1.5 Summary\n",
    "In this lesson you discovered the Keras deep learning library for modeling regression problems.\n",
    "Through this tutorial you learned how to develop and evaluate neural network models, including:\n",
    "1. How to load data and develop a baseline model.\n",
    "2. How to lift performance using data preparation techniques like standardization.\n",
    "3. How to design and evaluate networks with different varying topologies on a problem.\n",
    "\n",
    "### 1.5.1 Next\n",
    "You are now equipped with the skills to develop neural network\n",
    "models on standard machine learning datasets."
   ]
  },
  {
   "cell_type": "code",
   "execution_count": null,
   "metadata": {
    "collapsed": true
   },
   "outputs": [],
   "source": []
  }
 ],
 "metadata": {
  "anaconda-cloud": {},
  "kernelspec": {
   "display_name": "Python [default]",
   "language": "python",
   "name": "python2"
  },
  "language_info": {
   "codemirror_mode": {
    "name": "ipython",
    "version": 2
   },
   "file_extension": ".py",
   "mimetype": "text/x-python",
   "name": "python",
   "nbconvert_exporter": "python",
   "pygments_lexer": "ipython2",
   "version": "2.7.12"
  }
 },
 "nbformat": 4,
 "nbformat_minor": 1
}
