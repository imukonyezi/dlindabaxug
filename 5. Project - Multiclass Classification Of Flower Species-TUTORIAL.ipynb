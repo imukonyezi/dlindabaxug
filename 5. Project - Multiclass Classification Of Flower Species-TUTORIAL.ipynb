{
 "cells": [
  {
   "cell_type": "markdown",
   "metadata": {},
   "source": [
    "# Project: Multiclass Classification Of Flower Species\n",
    "In this project tutorial you will discover how you can use Keras to develop and evaluate neural\n",
    "network models for multiclass classification problems. After completing this step-by-step tutorial,\n",
    "you will know:\n",
    "1. How to load data from CSV and make it available to Keras.\n",
    "2. How to prepare multiclass classification data for modeling with neural networks.\n",
    "3. How to evaluate Keras neural network models with scikit-learn.\n",
    "Let’s get started.\n",
    "\n",
    "### 1.1 Iris Flowers Classification Dataset\n",
    "In this tutorial we will use the standard machine learning problem called the iris flowers dataset.\n",
    "This dataset is well studied and is a good problem for practicing on neural networks because\n",
    "all of the 4 input variables are numeric and have the same scale in centimeters. Each instance\n",
    "describes the properties of an observed flower measurements and the output variable is specific\n",
    "iris species. The attributes for this dataset can be summarized as follows:\n",
    "1. Sepal length in centimeters.\n",
    "2. Sepal width in centimeters.\n",
    "3. Petal length in centimeters.\n",
    "4. Petal width in centimeters.\n",
    "5. Class.\n",
    "\n",
    "This is a multiclass classification problem, meaning that there are more than two classes\n",
    "to be predicted, in fact there are three flower species. This is an important type of problem\n",
    "on which to practice with neural networks because the three class values require specialized\n",
    "handling. Below is a sample of the first five of the 150 instances:\n",
    "\n",
    "```5.1,3.5,1.4,0.2,Iris-setosa\n",
    "4.9,3.0,1.4,0.2,Iris-setosa\n",
    "4.7,3.2,1.3,0.2,Iris-setosa\n",
    "4.6,3.1,1.5,0.2,Iris-setosa\n",
    "5.0,3.6,1.4,0.2,Iris-setosa```\n",
    "\n",
    "Sample of the Iris Flowers Dataset."
   ]
  },
  {
   "cell_type": "markdown",
   "metadata": {},
   "source": [
    "The iris flower dataset is a well studied problem and a such we can expect to achieve a model\n",
    "accuracy in the range of 95% to 97%. This provides a good target to aim for when developing\n",
    "our models. The dataset is provided in the bundle of sample code provided with this book. You\n",
    "can also download the iris flowers dataset from the UCI Machine Learning repository and place\n",
    "it in your current working directory with the filename iris.csv. You can learn more about the\n",
    "iris flower classification dataset on the UCI Machine Learning Repository page.\n",
    "\n",
    "#### 1.2 Import Classes and Functions\n",
    "We can begin by importing all of the classes and functions we will need in this tutorial. This\n",
    "includes both the functionality we require from Keras, but also data loading from Pandas as\n",
    "well as data preparation and model evaluation from scikit-learn.\n"
   ]
  },
  {
   "cell_type": "code",
   "execution_count": 1,
   "metadata": {
    "collapsed": false
   },
   "outputs": [
    {
     "name": "stderr",
     "output_type": "stream",
     "text": [
      "Using TensorFlow backend.\n",
      "/home/isaac/anaconda2/lib/python2.7/site-packages/sklearn/cross_validation.py:41: DeprecationWarning: This module was deprecated in version 0.18 in favor of the model_selection module into which all the refactored classes and functions are moved. Also note that the interface of the new CV iterators are different from that of this module. This module will be removed in 0.20.\n",
      "  \"This module will be removed in 0.20.\", DeprecationWarning)\n"
     ]
    }
   ],
   "source": [
    "# Import Classes and Functions.\n",
    "import numpy\n",
    "import pandas\n",
    "from keras.models import Sequential\n",
    "from keras.layers import Dense\n",
    "from keras.wrappers.scikit_learn import KerasClassifier\n",
    "from keras.utils import np_utils\n",
    "from sklearn.cross_validation import cross_val_score\n",
    "from sklearn.cross_validation import KFold\n",
    "from sklearn.preprocessing import LabelEncoder\n",
    "from sklearn.pipeline import Pipeline"
   ]
  },
  {
   "cell_type": "markdown",
   "metadata": {},
   "source": [
    "#### 1.3 Initialize Random Number Generator\n",
    "Next we need to initialize the random number generator to a constant value. This is important\n",
    "to ensure that the results we achieve from this model can be achieved again precisely. It ensures\n",
    "that the stochastic process of training a neural network model can be reproduced."
   ]
  },
  {
   "cell_type": "code",
   "execution_count": 3,
   "metadata": {
    "collapsed": false
   },
   "outputs": [],
   "source": [
    "# fix random seed for reproducibility\n",
    "# Initialize Random Number Generator.\n",
    "seed = 7\n",
    "numpy.random.seed(seed)"
   ]
  },
  {
   "cell_type": "markdown",
   "metadata": {},
   "source": [
    "### 1.4 Load The Dataset\n",
    "The dataset can be loaded directly. Because the output variable contains strings, it is easiest to\n",
    "load the data using pandas. We can then split the attributes (columns) into input variables (X)\n",
    "and output variables (Y )."
   ]
  },
  {
   "cell_type": "code",
   "execution_count": 10,
   "metadata": {
    "collapsed": false
   },
   "outputs": [],
   "source": [
    "# load dataset\n",
    "# Load Dataset And Separate Into Input and Output Variables.\n",
    "dataframe = pandas.read_csv(\"iris.csv\", header=None)\n",
    "dataset = dataframe.values\n",
    "X = dataset[:,0:4].astype(float)\n",
    "Y = dataset[:,4]"
   ]
  },
  {
   "cell_type": "markdown",
   "metadata": {},
   "source": [
    "### 1.5 Encode The Output Variable\n",
    "The output variable contains three different string values. When modeling multiclass classification\n",
    "problems using neural networks, it is good practice to reshape the output attribute from a\n",
    "vector that contains values for each class value to be a matrix with a boolean for each class\n",
    "value and whether or not a given instance has that class value or not. This is called one hot\n",
    "encoding or creating dummy variables from a categorical variable. For example, in this problem\n",
    "the three class values are Iris-setosa, Iris-versicolor and Iris-virginica. If we had the\n",
    "three observations:\n",
    "Iris-setosa\n",
    "Iris-versicolor\n",
    "Iris-virginica\n",
    "Listing 10.5: Three Classes In The Iris Dataset.\n",
    "We can turn this into a one-hot encoded binary matrix for each data instance that would\n",
    "look as follows:\n",
    "```\n",
    "Iris-setosa, Iris-versicolor, Iris-virginica\n",
    "1,     0,     0\n",
    "0,     1,     0\n",
    "0,     0,     1```\n",
    "\n",
    "Listing 10.6: One Hot Encoding of The Classes In The Iris Dataset.\n",
    "We can do this by first encoding the strings consistently to integers using the scikit-learn\n",
    "class LabelEncoder. Then convert the vector of integers to a one hot encoding using the Keras\n",
    "function to categorical()."
   ]
  },
  {
   "cell_type": "code",
   "execution_count": 11,
   "metadata": {
    "collapsed": true
   },
   "outputs": [],
   "source": [
    "# encode class values as integers\n",
    "# One Hot Encoding Of Iris Dataset Output Variable.\n",
    "encoder = LabelEncoder()\n",
    "encoder.fit(Y)\n",
    "encoded_Y = encoder.transform(Y)\n",
    "# convert integers to dummy variables (i.e. one hot encoded)\n",
    "dummy_y = np_utils.to_categorical(encoded_Y)"
   ]
  },
  {
   "cell_type": "markdown",
   "metadata": {},
   "source": [
    "### 1.6 Define The Neural Network Model\n",
    "The Keras library provides wrapper classes to allow you to use neural network models developed\n",
    "with Keras in scikit-learn as we saw in the previous lesson. There is a KerasClassifier class\n",
    "in Keras that can be used as an Estimator in scikit-learn, the base type of model in the library.\n",
    "The KerasClassifier takes the name of a function as an argument. This function must return\n",
    "the constructed neural network model, ready for training.\n",
    "Below is a function that will create a baseline neural network for the iris classification\n",
    "problem. It creates a simple fully connected network with one hidden layer that contains 4\n",
    "neurons, the same number of inputs (it could be any number of neurons). The hidden layer uses\n",
    "a rectifier activation function which is a good practice. Because we used a one-hot encoding for\n",
    "our iris dataset, the output layer must create 3 output values, one for each class. The output\n",
    "value with the largest value will be taken as the class predicted by the model. The network\n",
    "topology of this simple one-layer neural network can be summarized as:\n",
    "```\n",
    "4 inputs -> [4 hidden nodes] -> 3 outputs```\n",
    "\n",
    "Note that we use a sigmoid activation function in the output layer. This is to ensure the\n",
    "output values are in the range of 0 and 1 and may be used as predicted probabilities. Finally,\n",
    "the network uses the efficient ADAM gradient descent optimization algorithm with a logarithmic\n",
    "loss function, which is called categorical crossentropy in Keras.\n"
   ]
  },
  {
   "cell_type": "code",
   "execution_count": 12,
   "metadata": {
    "collapsed": true
   },
   "outputs": [],
   "source": [
    "# define baseline model\n",
    "# Define and Compile the Neural Network Model.\n",
    "def baseline_model():\n",
    "    # create model\n",
    "    model = Sequential()\n",
    "    model.add(Dense(4, input_dim=4, init= 'normal' , activation= 'relu' ))\n",
    "    model.add(Dense(3, init= 'normal', activation= 'sigmoid' ))\n",
    "    # Compile model\n",
    "    ## CODE HERE ##\n",
    "    \n",
    "    return model"
   ]
  },
  {
   "cell_type": "markdown",
   "metadata": {},
   "source": [
    "We can now create our KerasClassifier for use in scikit-learn. We can also pass arguments\n",
    "in the construction of the KerasClassifier class that will be passed on to the fit() function\n",
    "internally used to train the neural network. Here, we pass the number of epochs nb epoch as\n",
    "200 and batch size as 5 to use when training the model. Debugging is also turned off when\n",
    "training by setting verbose to 0."
   ]
  },
  {
   "cell_type": "code",
   "execution_count": 13,
   "metadata": {
    "collapsed": true
   },
   "outputs": [],
   "source": [
    "# Create Wrapper For Neural Network Model For Use in scikit-learn.\n",
    "## CODE HERE ##\n"
   ]
  },
  {
   "cell_type": "markdown",
   "metadata": {},
   "source": [
    "### 1.7 Evaluate The Model with k-Fold Cross Validation\n",
    "We can now evaluate the neural network model on our training data. The scikit-learn library\n",
    "has excellent capability to evaluate models using a suite of techniques. The gold standard for\n",
    "evaluating machine learning models is k-fold cross validation. First we can define the model evaluation procedure. Here, we set the number of folds to be 10 (an excellent default) and to shuffle the data before partitioning it."
   ]
  },
  {
   "cell_type": "code",
   "execution_count": 14,
   "metadata": {
    "collapsed": false
   },
   "outputs": [],
   "source": [
    "#Prepare Cross Validation.\n",
    "kfold = KFold(n=len(X), n_folds=10, shuffle=True, random_state=seed)\n"
   ]
  },
  {
   "cell_type": "markdown",
   "metadata": {},
   "source": [
    "Now we can evaluate our model (estimator) on our dataset (X and dummy y) using a 10-fold\n",
    "cross validation procedure (kfold). Evaluating the model only takes approximately 10 seconds\n",
    "and returns an object that describes the evaluation of the 10 constructed models for each of the\n",
    "splits of the dataset."
   ]
  },
  {
   "cell_type": "code",
   "execution_count": 16,
   "metadata": {
    "collapsed": false
   },
   "outputs": [
    {
     "name": "stdout",
     "output_type": "stream",
     "text": [
      "Accuracy: 95.33% (4.27%)\n"
     ]
    }
   ],
   "source": [
    "# Evaluate the Neural Network Model.\n",
    "results = cross_val_score(estimator, X, dummy_y, cv=kfold)\n",
    "print(\"Accuracy: %.2f%% (%.2f%%)\" % (results.mean()*100, results.std()*100))\n"
   ]
  },
  {
   "cell_type": "markdown",
   "metadata": {},
   "source": [
    "The results are summarized as both the mean and standard deviation of the model accuracy\n",
    "on the dataset. This is a reasonable estimation of the performance of the model on unseen data.\n",
    "It is also within the realm of known top results for this problem.\n",
    "\n",
    "Baseline: 95.33% (4.27%)\n",
    "###### Estimated Accuracy of Neural Network Model on the Iris Dataset.\n",
    "\n",
    "### 1.8 Summary\n",
    "In this lesson you discovered how to develop and evaluate a neural network using the Keras\n",
    "Python library for deep learning. By completing this tutorial, you learned:\n",
    "1. How to load data and make it available to Keras.\n",
    "2. How to prepare multiclass classification data for modeling using one hot encoding.\n",
    "3. How to use Keras neural network models with scikit-learn.\n",
    "4. How to define a neural network using Keras for multiclass classification.\n",
    "5. How to evaluate a Keras neural network model using scikit-learn with k-fold cross validation.\n",
    "\n",
    "## Next\n",
    "This was your first end-to-end project using Keras on a standalone dataset. In the next tutorial\n",
    "you will develop neural network models for a binary classification problem and tune them to get\n",
    "increases in model performance."
   ]
  },
  {
   "cell_type": "code",
   "execution_count": null,
   "metadata": {
    "collapsed": true
   },
   "outputs": [],
   "source": []
  }
 ],
 "metadata": {
  "anaconda-cloud": {},
  "kernelspec": {
   "display_name": "Python [default]",
   "language": "python",
   "name": "python2"
  },
  "language_info": {
   "codemirror_mode": {
    "name": "ipython",
    "version": 2
   },
   "file_extension": ".py",
   "mimetype": "text/x-python",
   "name": "python",
   "nbconvert_exporter": "python",
   "pygments_lexer": "ipython2",
   "version": "2.7.12"
  }
 },
 "nbformat": 4,
 "nbformat_minor": 1
}
